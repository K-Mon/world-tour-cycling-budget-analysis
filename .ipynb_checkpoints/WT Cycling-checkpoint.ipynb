{
 "cells": [
  {
   "cell_type": "code",
   "execution_count": 1,
   "id": "b112a135",
   "metadata": {},
   "outputs": [],
   "source": [
    "import requests\n",
    "import bs4\n",
    "import re\n",
    "import pandas as pd\n",
    "import sqlite3\n",
    "import time \n",
    "import random\n",
    "import numpy as np \n",
    "import matplotlib.pyplot as plt\n",
    "from scipy.special import expit"
   ]
  },
  {
   "cell_type": "markdown",
   "id": "101409f8",
   "metadata": {},
   "source": [
    "## Functions:"
   ]
  },
  {
   "cell_type": "code",
   "execution_count": 2,
   "id": "c3123945",
   "metadata": {},
   "outputs": [],
   "source": [
    "def get_ranks_series(race_rank_series):\n",
    "    ranks = []\n",
    "    for race_and_rank in race_rank_series:\n",
    "        rank = re.search(\"\\(((\\d.\\w+)|(\\w\\w)|(Olympics))\\)$\",race_and_rank)\n",
    "        if rank != None:\n",
    "            rank = rank.group(1)\n",
    "            if rank not in ranks:\n",
    "                ranks.append(rank)\n",
    "        else:\n",
    "            ranks.append(None)\n",
    "    ranks = pd.Series(ranks)\n",
    "    ranks.ffill(inplace=True)\n",
    "    return ranks\n",
    "\n",
    "def get_rider_stats (soup, rider_stats, race_ranks):\n",
    "    rider_results_scrape = {\"date\": [],\"result\": [],\"race_and_rank\": [],\"distance\": [],\"pcs\": [],\"uci\": []}\n",
    "    rider_results_key = list(rider_results.keys())\n",
    "\n",
    "    for row in soup.find_all(\"tr\")[:]:\n",
    "        html_table_col = 0\n",
    "        dict_key_loc = 0\n",
    "        for col in row.find_all(\"td\"):\n",
    "            if not (col.has_attr('class') and col['class'][0] in ['season','ac',\"bar\"]):\n",
    "                if html_table_col not in [2,3,8]:\n",
    "                    col_value = col.text\n",
    "                    if col_value==\"\":\n",
    "                        ## add a None. We can clean the data after we extract it\n",
    "                        rider_results_scrape[rider_results_key[dict_key_loc]].append(None)\n",
    "                    else:\n",
    "                        rider_results_scrape[rider_results_key[dict_key_loc]].append(col_value)\n",
    "                    dict_key_loc = dict_key_loc + 1\n",
    "                html_table_col = html_table_col + 1\n",
    "            else:\n",
    "                break\n",
    "\n",
    "    df = pd.DataFrame(rider_results_scrape)\n",
    "    df[\"result\"] = pd.to_numeric(df[\"result\"],errors=\"coerce\").fillna(1000)\n",
    "    df[\"distance\"] = pd.to_numeric(df[\"distance\"],errors=\"coerce\").fillna(0)\n",
    "    df[\"uci\"] = pd.to_numeric(df[\"uci\"],errors=\"coerce\").fillna(0)    \n",
    "    df[\"race_rank\"] = get_ranks_series(df[\"race_and_rank\"])\n",
    "\n",
    "    rider_stats[\"tot_races\"].append(len(df.loc[df[\"date\"].notna()]))\n",
    "    rider_stats[\"tot_distance\"].append(df[\"distance\"].sum())\n",
    "    rider_stats[\"tot_wins\"].append(len(df.loc[df[\"result\"]==1]))\n",
    "    rider_stats[\"tot_top_3\"].append(len(df.loc[df[\"result\"] <= 3]))\n",
    "    rider_stats[\"tot_top_10\"].append(len(df.loc[df[\"result\"] <= 10]))\n",
    "    rider_stats[\"tot_uci_points\"].append(df[\"uci\"].sum())\n",
    "\n",
    "    for race_rank in race_ranks:\n",
    "        race_rank_filter = df.loc[df[\"race_rank\"] == race_rank][\"uci\"]\n",
    "        rider_stats[race_rank+\"_races\"].append(len(race_rank_filter))\n",
    "        rider_stats[race_rank+\"_points\"].append(sum(race_rank_filter))\n",
    "    return rider_stats\n",
    "\n",
    "def get_team_df(soup):\n",
    "    teams = {\"team\" : [], \"url\" : [], \"team_type\" : []}\n",
    "    found_alpecin = False\n",
    "    \n",
    "    for a in soup.select(\"a[href]\"):\n",
    "        href = a[\"href\"]\n",
    "        if (\"team\" in href and \"2021\" in href) and bool(a.find(\"img\", recursive=False)) == False:\n",
    "            if \"alpecin\" in href:\n",
    "                found_alpecin = True\n",
    "            teams[\"team\"].append(a.text)\n",
    "            teams[\"url\"].append(href)\n",
    "            if found_alpecin == True:\n",
    "                teams[\"team_type\"].append(\"PR\")\n",
    "            else:\n",
    "                teams[\"team_type\"].append(\"WT\")\n",
    "    return pd.DataFrame(teams)\n",
    "\n",
    "def get_rider_stats_dict(race_ranks):\n",
    "    rider_stats = {\n",
    "        \"name\":[],\n",
    "        \"team\":[],\n",
    "        \"tot_races\":[],\n",
    "        \"tot_distance\": [],\n",
    "        \"tot_uci_points\":[],\n",
    "        \"tot_wins\": [],\n",
    "        \"tot_top_3\": [],\n",
    "        \"tot_top_10\": [],\n",
    "    }\n",
    "    for race_rank in race_ranks:\n",
    "        rider_stats[race_rank+\"_races\"] = []\n",
    "        rider_stats[race_rank+\"_points\"] = []\n",
    "        \n",
    "    return rider_stats\n",
    "\n",
    "def get_team_riders(soup):\n",
    "    riders = []\n",
    "    for div in soup.find_all('div', attrs={'class': \"hide ttabs tabe\"}):\n",
    "        for li in div.find_all('li'):\n",
    "            url = \"\"\n",
    "            for a in li.find_all(\"a\"):\n",
    "                url = a[\"href\"]\n",
    "            rider = re.search(r\"\\D+\\s[^(]*\",li.text).group().strip()\n",
    "            riders.append((rider, url))\n",
    "    return riders\n",
    "\n",
    "def find_all_rider_stat_points(lst):\n",
    "    point_cols = []\n",
    "    for col in lst:\n",
    "        target_str_result = re.match(\"(^\\d.\\w+_points)\", col)\n",
    "        if target_str_result != None:\n",
    "            point_cols.append(col)\n",
    "    return point_cols"
   ]
  },
  {
   "cell_type": "markdown",
   "id": "c57464de",
   "metadata": {},
   "source": [
    "## Global Variables"
   ]
  },
  {
   "cell_type": "code",
   "execution_count": 505,
   "id": "e2bc984c",
   "metadata": {},
   "outputs": [],
   "source": [
    "BASE_URL = \"https://www.procyclingstats.com/\""
   ]
  },
  {
   "cell_type": "markdown",
   "id": "0d3d0eff",
   "metadata": {},
   "source": [
    "## Get and Clean the data\n",
    "### First we will get the team DataFrame"
   ]
  },
  {
   "cell_type": "code",
   "execution_count": 506,
   "id": "b15694a4",
   "metadata": {},
   "outputs": [],
   "source": [
    "all_teams_soup = bs4.BeautifulSoup(requests.get(BASE_URL+\"teams.php?year=2021&filter=Filter\").content)\n",
    "teams_df = get_team_df(all_teams_soup)"
   ]
  },
  {
   "cell_type": "code",
   "execution_count": 507,
   "id": "d49ed2d9",
   "metadata": {},
   "outputs": [],
   "source": [
    "teams_df[\"budget (in million euros)\"] = None"
   ]
  },
  {
   "cell_type": "code",
   "execution_count": 508,
   "id": "37d08cba",
   "metadata": {},
   "outputs": [
    {
     "data": {
      "text/html": [
       "<div>\n",
       "<style scoped>\n",
       "    .dataframe tbody tr th:only-of-type {\n",
       "        vertical-align: middle;\n",
       "    }\n",
       "\n",
       "    .dataframe tbody tr th {\n",
       "        vertical-align: top;\n",
       "    }\n",
       "\n",
       "    .dataframe thead th {\n",
       "        text-align: right;\n",
       "    }\n",
       "</style>\n",
       "<table border=\"1\" class=\"dataframe\">\n",
       "  <thead>\n",
       "    <tr style=\"text-align: right;\">\n",
       "      <th></th>\n",
       "      <th>team</th>\n",
       "      <th>url</th>\n",
       "      <th>team_type</th>\n",
       "      <th>budget (in million euros)</th>\n",
       "    </tr>\n",
       "  </thead>\n",
       "  <tbody>\n",
       "    <tr>\n",
       "      <th>0</th>\n",
       "      <td>AG2R Citroën Team</td>\n",
       "      <td>team/ag2r-citroen-team-2021</td>\n",
       "      <td>WT</td>\n",
       "      <td>None</td>\n",
       "    </tr>\n",
       "    <tr>\n",
       "      <th>1</th>\n",
       "      <td>Astana - Premier Tech</td>\n",
       "      <td>team/astana-premier-tech-2021</td>\n",
       "      <td>WT</td>\n",
       "      <td>None</td>\n",
       "    </tr>\n",
       "  </tbody>\n",
       "</table>\n",
       "</div>"
      ],
      "text/plain": [
       "                    team                            url team_type  \\\n",
       "0      AG2R Citroën Team    team/ag2r-citroen-team-2021        WT   \n",
       "1  Astana - Premier Tech  team/astana-premier-tech-2021        WT   \n",
       "\n",
       "  budget (in million euros)  \n",
       "0                      None  \n",
       "1                      None  "
      ]
     },
     "execution_count": 508,
     "metadata": {},
     "output_type": "execute_result"
    }
   ],
   "source": [
    "teams_df.head(2)"
   ]
  },
  {
   "cell_type": "markdown",
   "id": "3b6a28fc",
   "metadata": {},
   "source": [
    "### Team Budgets\n",
    "#### For this section we will be using estimates for the budgets from the last few years. An assumption will be that the budgets have stayed constant"
   ]
  },
  {
   "cell_type": "code",
   "execution_count": 509,
   "id": "7058bead",
   "metadata": {},
   "outputs": [],
   "source": [
    "budgets = {\n",
    "    'INEOS Grenadiers': 50.107,\n",
    "    'Groupama - FDJ': 19.1,\n",
    "    'Deceuninck - Quick Step': 19.1,\n",
    "    'Lotto Soudal': 15.9,\n",
    "    'AG2R Citroën Team': 23,\n",
    "    'Cofidis':13,\n",
    "    'Team Jumbo-Visma': 20 \n",
    "}\n",
    "\n",
    "for key, value in budgets.items():\n",
    "    teams_df.loc[teams_df[\"team\"] == key, \"budget (in million euros)\"] = value"
   ]
  },
  {
   "cell_type": "markdown",
   "id": "529dd611",
   "metadata": {},
   "source": [
    "### We will now get all the rider information for each WT team"
   ]
  },
  {
   "cell_type": "code",
   "execution_count": 511,
   "id": "d4e03e2e",
   "metadata": {},
   "outputs": [],
   "source": [
    "wins = []\n",
    "race_ranks = ['1.Pro', '2.Pro', '2.UWT', '1.1', '1.UWT', '2.1', 'Olympics', 'CC', 'WC']\n",
    "rider_stats = get_rider_stats_dict(race_ranks)\n",
    "wt_teams_df = teams_df.loc[((teams_df[\"team_type\"] == \"WT\") & (teams_df[\"budget (in million euros)\"].notna()))].copy()\n",
    "\n",
    "for team, url in zip(wt_teams_df[\"team\"], wt_teams_df[\"url\"]):\n",
    "    \n",
    "    time.sleep(random.randint(2,5))\n",
    "    team_soup = bs4.BeautifulSoup(requests.get(BASE_URL + url).content)\n",
    "    \n",
    "    team_wins = team_soup.find_all('ul', attrs={'class': \"list horizontal teamkpi\"})[0].find_all(\"a\")[0].text\n",
    "    wins.append(int(team_wins))\n",
    "    \n",
    "    riders = get_team_riders(team_soup)\n",
    "    \n",
    "    for rider in riders:\n",
    "        \n",
    "        time.sleep(random.randint(2,5))\n",
    "        rider_stats[\"name\"].append(rider[0])\n",
    "        rider_stats[\"team\"].append(team)\n",
    "        rider_soup = bs4.BeautifulSoup(requests.get(BASE_URL + rider[1]).content)\n",
    "        rider_stats = get_rider_stats(rider_soup, rider_stats, race_ranks)\n",
    "        \n",
    "rider_stats_df = pd.DataFrame(rider_stats)\n",
    "wt_teams_df[\"wins\"] = wins"
   ]
  },
  {
   "cell_type": "markdown",
   "id": "28250321",
   "metadata": {},
   "source": [
    "## Backup the data in a SQLite DB"
   ]
  },
  {
   "cell_type": "code",
   "execution_count": 512,
   "id": "d98726b4",
   "metadata": {
    "scrolled": true
   },
   "outputs": [
    {
     "name": "stderr",
     "output_type": "stream",
     "text": [
      "/Library/Frameworks/Python.framework/Versions/3.8/lib/python3.8/site-packages/pandas/core/generic.py:2872: UserWarning: The spaces in these column names will not be changed. In pandas versions < 0.14, spaces were converted to underscores.\n",
      "  sql.to_sql(\n"
     ]
    }
   ],
   "source": [
    "conn = sqlite3.connect(\"pro_cycling.db\")\n",
    "wt_teams_df.to_sql(\"world_tour_teams\", conn, if_exists=\"replace\")\n",
    "rider_stats_df.to_sql(\"rider_stats\", conn, if_exists=\"replace\")\n",
    "conn.close()"
   ]
  },
  {
   "cell_type": "markdown",
   "id": "504be240",
   "metadata": {},
   "source": [
    "## Access the data from the SQLite DB"
   ]
  },
  {
   "cell_type": "code",
   "execution_count": 3,
   "id": "df42e028",
   "metadata": {},
   "outputs": [],
   "source": [
    "conn = sqlite3.connect(\"pro_cycling.db\")\n",
    "wt_teams_df = pd.read_sql_query(\"SELECT * FROM world_tour_teams\", conn)\n",
    "rider_stats_df = pd.read_sql_query(\"SELECT * FROM rider_stats\", conn)\n",
    "conn.close()"
   ]
  },
  {
   "cell_type": "code",
   "execution_count": 4,
   "id": "c6730902",
   "metadata": {},
   "outputs": [],
   "source": [
    "wt_teams_df.drop(columns = \"index\", inplace = True)\n",
    "rider_stats_df.drop(columns = \"index\", inplace = True)\n",
    "rider_stats_df[\"team_member_agg\"] = 1"
   ]
  },
  {
   "cell_type": "code",
   "execution_count": 5,
   "id": "de765b43",
   "metadata": {},
   "outputs": [
    {
     "data": {
      "text/html": [
       "<div>\n",
       "<style scoped>\n",
       "    .dataframe tbody tr th:only-of-type {\n",
       "        vertical-align: middle;\n",
       "    }\n",
       "\n",
       "    .dataframe tbody tr th {\n",
       "        vertical-align: top;\n",
       "    }\n",
       "\n",
       "    .dataframe thead th {\n",
       "        text-align: right;\n",
       "    }\n",
       "</style>\n",
       "<table border=\"1\" class=\"dataframe\">\n",
       "  <thead>\n",
       "    <tr style=\"text-align: right;\">\n",
       "      <th></th>\n",
       "      <th>team</th>\n",
       "      <th>url</th>\n",
       "      <th>team_type</th>\n",
       "      <th>budget (in million euros)</th>\n",
       "      <th>wins</th>\n",
       "    </tr>\n",
       "  </thead>\n",
       "  <tbody>\n",
       "    <tr>\n",
       "      <th>0</th>\n",
       "      <td>AG2R Citroën Team</td>\n",
       "      <td>team/ag2r-citroen-team-2021</td>\n",
       "      <td>WT</td>\n",
       "      <td>23</td>\n",
       "      <td>12</td>\n",
       "    </tr>\n",
       "    <tr>\n",
       "      <th>1</th>\n",
       "      <td>Cofidis</td>\n",
       "      <td>team/cofidis-2021</td>\n",
       "      <td>WT</td>\n",
       "      <td>13</td>\n",
       "      <td>12</td>\n",
       "    </tr>\n",
       "  </tbody>\n",
       "</table>\n",
       "</div>"
      ],
      "text/plain": [
       "                team                          url team_type  \\\n",
       "0  AG2R Citroën Team  team/ag2r-citroen-team-2021        WT   \n",
       "1            Cofidis            team/cofidis-2021        WT   \n",
       "\n",
       "  budget (in million euros)  wins  \n",
       "0                        23    12  \n",
       "1                        13    12  "
      ]
     },
     "execution_count": 5,
     "metadata": {},
     "output_type": "execute_result"
    }
   ],
   "source": [
    "wt_teams_df.head(2)"
   ]
  },
  {
   "cell_type": "code",
   "execution_count": 6,
   "id": "3da6abe5",
   "metadata": {
    "scrolled": false
   },
   "outputs": [
    {
     "data": {
      "text/html": [
       "<div>\n",
       "<style scoped>\n",
       "    .dataframe tbody tr th:only-of-type {\n",
       "        vertical-align: middle;\n",
       "    }\n",
       "\n",
       "    .dataframe tbody tr th {\n",
       "        vertical-align: top;\n",
       "    }\n",
       "\n",
       "    .dataframe thead th {\n",
       "        text-align: right;\n",
       "    }\n",
       "</style>\n",
       "<table border=\"1\" class=\"dataframe\">\n",
       "  <thead>\n",
       "    <tr style=\"text-align: right;\">\n",
       "      <th></th>\n",
       "      <th>name</th>\n",
       "      <th>team</th>\n",
       "      <th>tot_races</th>\n",
       "      <th>tot_distance</th>\n",
       "      <th>tot_uci_points</th>\n",
       "      <th>tot_wins</th>\n",
       "      <th>tot_top_3</th>\n",
       "      <th>tot_top_10</th>\n",
       "      <th>1.Pro_races</th>\n",
       "      <th>1.Pro_points</th>\n",
       "      <th>...</th>\n",
       "      <th>1.UWT_points</th>\n",
       "      <th>2.1_races</th>\n",
       "      <th>2.1_points</th>\n",
       "      <th>Olympics_races</th>\n",
       "      <th>Olympics_points</th>\n",
       "      <th>CC_races</th>\n",
       "      <th>CC_points</th>\n",
       "      <th>WC_races</th>\n",
       "      <th>WC_points</th>\n",
       "      <th>team_member_agg</th>\n",
       "    </tr>\n",
       "  </thead>\n",
       "  <tbody>\n",
       "    <tr>\n",
       "      <th>0</th>\n",
       "      <td>O'CONNOR Ben</td>\n",
       "      <td>AG2R Citroën Team</td>\n",
       "      <td>77</td>\n",
       "      <td>10490.03</td>\n",
       "      <td>1227.0</td>\n",
       "      <td>1</td>\n",
       "      <td>3</td>\n",
       "      <td>17</td>\n",
       "      <td>1</td>\n",
       "      <td>0.0</td>\n",
       "      <td>...</td>\n",
       "      <td>76.0</td>\n",
       "      <td>12</td>\n",
       "      <td>53.0</td>\n",
       "      <td>0</td>\n",
       "      <td>0.0</td>\n",
       "      <td>0</td>\n",
       "      <td>0.0</td>\n",
       "      <td>0</td>\n",
       "      <td>0.0</td>\n",
       "      <td>1</td>\n",
       "    </tr>\n",
       "    <tr>\n",
       "      <th>1</th>\n",
       "      <td>COSNEFROY Benoît</td>\n",
       "      <td>AG2R Citroën Team</td>\n",
       "      <td>69</td>\n",
       "      <td>10685.24</td>\n",
       "      <td>1131.0</td>\n",
       "      <td>3</td>\n",
       "      <td>7</td>\n",
       "      <td>14</td>\n",
       "      <td>1</td>\n",
       "      <td>100.0</td>\n",
       "      <td>...</td>\n",
       "      <td>0.0</td>\n",
       "      <td>7</td>\n",
       "      <td>538.0</td>\n",
       "      <td>1</td>\n",
       "      <td>0.0</td>\n",
       "      <td>1</td>\n",
       "      <td>0.0</td>\n",
       "      <td>1</td>\n",
       "      <td>0.0</td>\n",
       "      <td>1</td>\n",
       "    </tr>\n",
       "  </tbody>\n",
       "</table>\n",
       "<p>2 rows × 27 columns</p>\n",
       "</div>"
      ],
      "text/plain": [
       "               name               team  tot_races  tot_distance  \\\n",
       "0      O'CONNOR Ben  AG2R Citroën Team         77      10490.03   \n",
       "1  COSNEFROY Benoît  AG2R Citroën Team         69      10685.24   \n",
       "\n",
       "   tot_uci_points  tot_wins  tot_top_3  tot_top_10  1.Pro_races  1.Pro_points  \\\n",
       "0          1227.0         1          3          17            1           0.0   \n",
       "1          1131.0         3          7          14            1         100.0   \n",
       "\n",
       "   ...  1.UWT_points  2.1_races  2.1_points  Olympics_races  Olympics_points  \\\n",
       "0  ...          76.0         12        53.0               0              0.0   \n",
       "1  ...           0.0          7       538.0               1              0.0   \n",
       "\n",
       "   CC_races  CC_points  WC_races  WC_points  team_member_agg  \n",
       "0         0        0.0         0        0.0                1  \n",
       "1         1        0.0         1        0.0                1  \n",
       "\n",
       "[2 rows x 27 columns]"
      ]
     },
     "execution_count": 6,
     "metadata": {},
     "output_type": "execute_result"
    }
   ],
   "source": [
    "rider_stats_df.head(2)"
   ]
  },
  {
   "cell_type": "code",
   "execution_count": 7,
   "id": "4bc26b6b",
   "metadata": {},
   "outputs": [],
   "source": [
    "merge_df = pd.pivot_table(rider_stats_df, \n",
    "               index = \"team\", \n",
    "               values = find_all_rider_stat_points(list(rider_stats_df.columns[8:])),\n",
    "               aggfunc = np.sum)\n",
    "wt_teams_df = wt_teams_df.merge(merge_df, how=\"left\", left_on = \"team\", right_on = merge_df.index)"
   ]
  },
  {
   "cell_type": "code",
   "execution_count": 31,
   "id": "ea9f9c9e",
   "metadata": {},
   "outputs": [],
   "source": [
    "wt_teams_df[\"scaled_budget\"] = wt_teams_df[\"budget (in million euros)\"].astype(float) * 1000000\n",
    "wt_teams_df[\"total_team_points\"] = wt_teams_df[\"1.1_points\"] + wt_teams_df[\"1.Pro_points\"] + wt_teams_df[\"1.UWT_points\"] + wt_teams_df[\"2.1_points\"] + wt_teams_df[\"2.Pro_points\"] + wt_teams_df[\"2.UWT_points\"]\n",
    "wt_teams_df[\"point/euro\"] = wt_teams_df[\"total_team_points\"]/wt_teams_df[\"scaled_budget\"]\n",
    "wt_teams_df[\"wins/euro\"] = wt_teams_df[\"wins\"]/wt_teams_df[\"scaled_budget\"]"
   ]
  },
  {
   "cell_type": "code",
   "execution_count": 11,
   "id": "4088c577",
   "metadata": {},
   "outputs": [
    {
     "data": {
      "text/html": [
       "<div>\n",
       "<style scoped>\n",
       "    .dataframe tbody tr th:only-of-type {\n",
       "        vertical-align: middle;\n",
       "    }\n",
       "\n",
       "    .dataframe tbody tr th {\n",
       "        vertical-align: top;\n",
       "    }\n",
       "\n",
       "    .dataframe thead th {\n",
       "        text-align: right;\n",
       "    }\n",
       "</style>\n",
       "<table border=\"1\" class=\"dataframe\">\n",
       "  <thead>\n",
       "    <tr style=\"text-align: right;\">\n",
       "      <th></th>\n",
       "      <th>team</th>\n",
       "      <th>url</th>\n",
       "      <th>team_type</th>\n",
       "      <th>budget (in million euros)</th>\n",
       "      <th>wins</th>\n",
       "      <th>1.1_points</th>\n",
       "      <th>1.Pro_points</th>\n",
       "      <th>1.UWT_points</th>\n",
       "      <th>2.1_points</th>\n",
       "      <th>2.Pro_points</th>\n",
       "      <th>2.UWT_points</th>\n",
       "      <th>scaled_budget</th>\n",
       "      <th>total_team_points</th>\n",
       "      <th>point/euro</th>\n",
       "    </tr>\n",
       "  </thead>\n",
       "  <tbody>\n",
       "    <tr>\n",
       "      <th>0</th>\n",
       "      <td>AG2R Citroën Team</td>\n",
       "      <td>team/ag2r-citroen-team-2021</td>\n",
       "      <td>WT</td>\n",
       "      <td>23</td>\n",
       "      <td>12</td>\n",
       "      <td>1414.0</td>\n",
       "      <td>306.00</td>\n",
       "      <td>471.00</td>\n",
       "      <td>1324.0</td>\n",
       "      <td>620.00</td>\n",
       "      <td>1930.00</td>\n",
       "      <td>23000000.0</td>\n",
       "      <td>6065.00</td>\n",
       "      <td>0.000264</td>\n",
       "    </tr>\n",
       "    <tr>\n",
       "      <th>1</th>\n",
       "      <td>Cofidis</td>\n",
       "      <td>team/cofidis-2021</td>\n",
       "      <td>WT</td>\n",
       "      <td>13</td>\n",
       "      <td>12</td>\n",
       "      <td>391.0</td>\n",
       "      <td>261.00</td>\n",
       "      <td>762.00</td>\n",
       "      <td>626.0</td>\n",
       "      <td>270.00</td>\n",
       "      <td>1703.00</td>\n",
       "      <td>13000000.0</td>\n",
       "      <td>4013.00</td>\n",
       "      <td>0.000309</td>\n",
       "    </tr>\n",
       "    <tr>\n",
       "      <th>2</th>\n",
       "      <td>Deceuninck - Quick Step</td>\n",
       "      <td>team/deceuninck-quick-step-2021</td>\n",
       "      <td>WT</td>\n",
       "      <td>19.1</td>\n",
       "      <td>65</td>\n",
       "      <td>490.0</td>\n",
       "      <td>1457.33</td>\n",
       "      <td>1583.00</td>\n",
       "      <td>891.6</td>\n",
       "      <td>2973.02</td>\n",
       "      <td>5291.00</td>\n",
       "      <td>19100000.0</td>\n",
       "      <td>12685.95</td>\n",
       "      <td>0.000664</td>\n",
       "    </tr>\n",
       "    <tr>\n",
       "      <th>3</th>\n",
       "      <td>Groupama - FDJ</td>\n",
       "      <td>team/groupama-fdj-2021</td>\n",
       "      <td>WT</td>\n",
       "      <td>19.1</td>\n",
       "      <td>22</td>\n",
       "      <td>431.0</td>\n",
       "      <td>377.00</td>\n",
       "      <td>343.00</td>\n",
       "      <td>766.0</td>\n",
       "      <td>1464.00</td>\n",
       "      <td>1488.00</td>\n",
       "      <td>19100000.0</td>\n",
       "      <td>4869.00</td>\n",
       "      <td>0.000255</td>\n",
       "    </tr>\n",
       "    <tr>\n",
       "      <th>4</th>\n",
       "      <td>INEOS Grenadiers</td>\n",
       "      <td>team/ineos-grenadiers-2021</td>\n",
       "      <td>WT</td>\n",
       "      <td>50.107</td>\n",
       "      <td>35</td>\n",
       "      <td>16.0</td>\n",
       "      <td>1101.00</td>\n",
       "      <td>2490.33</td>\n",
       "      <td>1488.0</td>\n",
       "      <td>640.32</td>\n",
       "      <td>3858.00</td>\n",
       "      <td>50107000.0</td>\n",
       "      <td>9593.65</td>\n",
       "      <td>0.000191</td>\n",
       "    </tr>\n",
       "    <tr>\n",
       "      <th>5</th>\n",
       "      <td>Lotto Soudal</td>\n",
       "      <td>team/lotto-soudal-2021</td>\n",
       "      <td>WT</td>\n",
       "      <td>15.9</td>\n",
       "      <td>12</td>\n",
       "      <td>1060.0</td>\n",
       "      <td>407.00</td>\n",
       "      <td>1044.00</td>\n",
       "      <td>443.0</td>\n",
       "      <td>777.00</td>\n",
       "      <td>642.00</td>\n",
       "      <td>15900000.0</td>\n",
       "      <td>4373.00</td>\n",
       "      <td>0.000275</td>\n",
       "    </tr>\n",
       "    <tr>\n",
       "      <th>6</th>\n",
       "      <td>Team Jumbo-Visma</td>\n",
       "      <td>team/team-jumbo-visma-2021</td>\n",
       "      <td>WT</td>\n",
       "      <td>20</td>\n",
       "      <td>43</td>\n",
       "      <td>88.0</td>\n",
       "      <td>2339.00</td>\n",
       "      <td>564.00</td>\n",
       "      <td>632.0</td>\n",
       "      <td>1433.33</td>\n",
       "      <td>5547.33</td>\n",
       "      <td>20000000.0</td>\n",
       "      <td>10603.66</td>\n",
       "      <td>0.000530</td>\n",
       "    </tr>\n",
       "  </tbody>\n",
       "</table>\n",
       "</div>"
      ],
      "text/plain": [
       "                      team                              url team_type  \\\n",
       "0        AG2R Citroën Team      team/ag2r-citroen-team-2021        WT   \n",
       "1                  Cofidis                team/cofidis-2021        WT   \n",
       "2  Deceuninck - Quick Step  team/deceuninck-quick-step-2021        WT   \n",
       "3           Groupama - FDJ           team/groupama-fdj-2021        WT   \n",
       "4         INEOS Grenadiers       team/ineos-grenadiers-2021        WT   \n",
       "5             Lotto Soudal           team/lotto-soudal-2021        WT   \n",
       "6         Team Jumbo-Visma       team/team-jumbo-visma-2021        WT   \n",
       "\n",
       "  budget (in million euros)  wins  1.1_points  1.Pro_points  1.UWT_points  \\\n",
       "0                        23    12      1414.0        306.00        471.00   \n",
       "1                        13    12       391.0        261.00        762.00   \n",
       "2                      19.1    65       490.0       1457.33       1583.00   \n",
       "3                      19.1    22       431.0        377.00        343.00   \n",
       "4                    50.107    35        16.0       1101.00       2490.33   \n",
       "5                      15.9    12      1060.0        407.00       1044.00   \n",
       "6                        20    43        88.0       2339.00        564.00   \n",
       "\n",
       "   2.1_points  2.Pro_points  2.UWT_points  scaled_budget  total_team_points  \\\n",
       "0      1324.0        620.00       1930.00     23000000.0            6065.00   \n",
       "1       626.0        270.00       1703.00     13000000.0            4013.00   \n",
       "2       891.6       2973.02       5291.00     19100000.0           12685.95   \n",
       "3       766.0       1464.00       1488.00     19100000.0            4869.00   \n",
       "4      1488.0        640.32       3858.00     50107000.0            9593.65   \n",
       "5       443.0        777.00        642.00     15900000.0            4373.00   \n",
       "6       632.0       1433.33       5547.33     20000000.0           10603.66   \n",
       "\n",
       "   point/euro  \n",
       "0    0.000264  \n",
       "1    0.000309  \n",
       "2    0.000664  \n",
       "3    0.000255  \n",
       "4    0.000191  \n",
       "5    0.000275  \n",
       "6    0.000530  "
      ]
     },
     "execution_count": 11,
     "metadata": {},
     "output_type": "execute_result"
    }
   ],
   "source": [
    "wt_teams_df.head(10)"
   ]
  },
  {
   "cell_type": "code",
   "execution_count": 12,
   "id": "efb30c0d",
   "metadata": {},
   "outputs": [
    {
     "data": {
      "image/png": "[encoded data removed]",
      "text/plain": [
       "<Figure size 432x288 with 1 Axes>"
      ]
     },
     "metadata": {
      "needs_background": "light"
     },
     "output_type": "display_data"
    }
   ],
   "source": [
    "for budget, points, team in zip(wt_teams_df[\"scaled_budget\"],wt_teams_df[\"total_team_points\"],wt_teams_df[\"team\"]):\n",
    "    plt.plot(budget, points, marker='o', linestyle='', markersize=12, label=team)\n",
    "plt.xlabel(\"Budget\")\n",
    "plt.ylabel(\"UCI Points\")\n",
    "plt.title(\"UCI Points Generated Over Euros Spent\")\n",
    "plt.legend()\n",
    "plt.show()"
   ]
  },
  {
   "cell_type": "code",
   "execution_count": 30,
   "id": "c6f8b589",
   "metadata": {},
   "outputs": [
    {
     "data": {
      "image/png": "[encoded data removed]",
      "text/plain": [
       "<Figure size 720x360 with 1 Axes>"
      ]
     },
     "metadata": {
      "needs_background": "light"
     },
     "output_type": "display_data"
    }
   ],
   "source": [
    "ax = wt_teams_df[[\"point/euro\"]].plot(kind='bar', title =\"UCI Points/EUR\", figsize=(10, 5),fontsize=12)\n",
    "ax.set_xlabel(\"Teams\", fontsize=12)\n",
    "ax.set_ylabel(\"Points/EUR\", fontsize=12)\n",
    "ax.set_xticklabels(wt_teams_df[\"team\"])\n",
    "plt.xticks(rotation=25)\n",
    "ax.get_legend().remove()\n",
    "plt.show()"
   ]
  },
  {
   "cell_type": "markdown",
   "id": "d8f15830",
   "metadata": {},
   "source": [
    "Just from the scatter plot we can tell that there is a relationship between budget and points. Ineos is an extreme example where there budget has purchased them more points but they still lag behind Jumbo and Quick Step. Jumbo and Quickstep may be targetting more suitable races and aligning their riders with their overall strategy. Ineos is spending too much money and producing too poor of results. The bar chart helps show that just on a scale of how many euro's does each team spend to get a UCI point, Ineos has the worst performance. "
   ]
  },
  {
   "cell_type": "code",
   "execution_count": 17,
   "id": "1ef8135a",
   "metadata": {},
   "outputs": [
    {
     "data": {
      "image/png": "[encoded data removed]",
      "text/plain": [
       "<Figure size 720x360 with 1 Axes>"
      ]
     },
     "metadata": {
      "needs_background": "light"
     },
     "output_type": "display_data"
    }
   ],
   "source": [
    "ax = wt_teams_df[find_all_rider_stat_points(list(wt_teams_df.columns))].plot(kind='bar', \n",
    "                                                                             title =\"UCI Points By Team per Category\", \n",
    "                                                                             figsize=(10, 5), \n",
    "                                                                             legend = True, \n",
    "                                                                             fontsize=12)\n",
    "ax.set_xlabel(\"Teams\", fontsize=12)\n",
    "ax.set_ylabel(\"UCI Points\", fontsize=12)\n",
    "ax.set_xticklabels(wt_teams_df[\"team\"])\n",
    "plt.xticks(rotation=20)\n",
    "plt.show()"
   ]
  },
  {
   "cell_type": "markdown",
   "id": "cb88efa2",
   "metadata": {},
   "source": [
    "It is interesting to see the breakdown in the overall distribution per team to see where their points are coming from. The three biggest teams by points (Jumbo, Ineos, and Quick Step) get a bulk of the overall points from the 2.UWT race classification. The big 3 and AG2R seem to target specific race types besides 2.UWT. Quick Step is taking the majority of points at the 2.Pro level, Ineos takes the most 1.UWT points, Jumbo takes the most 1.Pro points. AG2R works around these teams. AG2R besides their 2.UWT points gets a bunch of their points for 1.1 and 2.1 races. Ineos and AG2R from a points perspective are getting a similar number of points in 2.1."
   ]
  },
  {
   "cell_type": "code",
   "execution_count": 32,
   "id": "0aa8010c",
   "metadata": {},
   "outputs": [
    {
     "data": {
      "image/png": "[encoded data removed]",
      "text/plain": [
       "<Figure size 432x288 with 1 Axes>"
      ]
     },
     "metadata": {
      "needs_background": "light"
     },
     "output_type": "display_data"
    }
   ],
   "source": [
    "for budget, wins, team in zip(wt_teams_df[\"scaled_budget\"],wt_teams_df[\"wins\"],wt_teams_df[\"team\"]):\n",
    "    plt.plot(budget, wins, marker='o', linestyle='', markersize=12, label=team)\n",
    "plt.xlabel(\"Budget\")\n",
    "plt.ylabel(\"Wins\")\n",
    "plt.title(\"Total Wins Relative To Budget\")\n",
    "plt.legend()\n",
    "plt.show()"
   ]
  },
  {
   "cell_type": "code",
   "execution_count": 33,
   "id": "b191974b",
   "metadata": {
    "scrolled": false
   },
   "outputs": [
    {
     "data": {
      "image/png": "[encoded data removed]",
      "text/plain": [
       "<Figure size 720x360 with 1 Axes>"
      ]
     },
     "metadata": {
      "needs_background": "light"
     },
     "output_type": "display_data"
    }
   ],
   "source": [
    "ax = wt_teams_df[[\"wins/euro\"]].plot(kind='bar', title =\"Wins/EUR\", figsize=(10, 5),fontsize=12)\n",
    "ax.set_xlabel(\"Teams\", fontsize=12)\n",
    "ax.set_ylabel(\"Wins/EUR\", fontsize=12)\n",
    "ax.set_xticklabels(wt_teams_df[\"team\"])\n",
    "plt.xticks(rotation=25)\n",
    "ax.get_legend().remove()\n",
    "plt.show()"
   ]
  },
  {
   "cell_type": "markdown",
   "id": "7e0ca3fd",
   "metadata": {},
   "source": [
    "Ineos again lags when you look at the number of wins the team gets relative to the budget. AG2R performs well at getting UCI points but does not perofrm well when getting wins. Ineos is again one of the worst performers when it comes to wins/euro. Quick Step is again one of the best performers when looking at both wins and the amount that they spend to get their wins."
   ]
  },
  {
   "cell_type": "code",
   "execution_count": 56,
   "id": "492d9796",
   "metadata": {},
   "outputs": [
    {
     "data": {
      "image/png": "[encoded data removed]",
      "text/plain": [
       "<Figure size 432x288 with 2 Axes>"
      ]
     },
     "metadata": {
      "needs_background": "light"
     },
     "output_type": "display_data"
    }
   ],
   "source": [
    "corr_matrix = wt_teams_df[[\"scaled_budget\", \"wins\", \"total_team_points\"]].corr()\n",
    "fig, ax = plt.subplots()\n",
    "plt.xticks(ticks=np.arange(len(corr_matrix.columns)),labels=corr_matrix.columns,rotation=45)\n",
    "plt.yticks(ticks=np.arange(len(corr_matrix.columns)),labels=corr_matrix.columns)\n",
    "im = ax.imshow(corr_matrix, cmap=\"Blues\")\n",
    "plt.colorbar(im)\n",
    "plt.show()"
   ]
  },
  {
   "cell_type": "markdown",
   "id": "16601ef5",
   "metadata": {},
   "source": [
    "The correlation that was calculated is heavily slanted towards Quick Step because of how many points and wins that they generated. We can determine that the relationship between budget and wins or points is not strong. In our small sample we have Jumbo and Quickstep competing on smaller budgets but taking the most number of wins and points. Ineos has the largest budget and a lot of wins but on a per euro basis they are one of the worst performers. "
   ]
  },
  {
   "cell_type": "markdown",
   "id": "978b624b",
   "metadata": {},
   "source": [
    "## Sources:\n",
    "### Budget:\n",
    "Ineos/Groupama/Quick Step: https://inrng.com/2021/07/ineos-team-budget-2020/\n",
    "Lotto: https://inrng.com/2022/01/lotto-soudal-budget-accounts/\n",
    "AG2R: https://ag2rcitroenteam.com/en/ag2r-citroen-team-through-2025/\n",
    "Jumbo: https://www.cyclingweekly.com/news/racing/jumbo-vismas-budget-will-increase-e20million-team-chases-grand-tour-success-435107"
   ]
  },
  {
   "cell_type": "code",
   "execution_count": null,
   "id": "b66c895e",
   "metadata": {},
   "outputs": [],
   "source": []
  }
 ],
 "metadata": {
  "kernelspec": {
   "display_name": "Python 3 (ipykernel)",
   "language": "python",
   "name": "python3"
  },
  "language_info": {
   "codemirror_mode": {
    "name": "ipython",
    "version": 3
   },
   "file_extension": ".py",
   "mimetype": "text/x-python",
   "name": "python",
   "nbconvert_exporter": "python",
   "pygments_lexer": "ipython3",
   "version": "3.8.1"
  }
 },
 "nbformat": 4,
 "nbformat_minor": 5
}
